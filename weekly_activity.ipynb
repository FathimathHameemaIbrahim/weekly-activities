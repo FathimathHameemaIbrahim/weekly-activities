{
 "cells": [
  {
   "cell_type": "markdown",
   "id": "4f7f9a53",
   "metadata": {},
   "source": [
    "# 1. Complete the following code to find the area of an equilateral triangle. Output should be as displayed"
   ]
  },
  {
   "cell_type": "code",
   "execution_count": 1,
   "id": "9adf4c35",
   "metadata": {},
   "outputs": [
    {
     "name": "stdout",
     "output_type": "stream",
     "text": [
      "Enter the side of the equilateral triangle: 5\n",
      "The area of equilateral triangle is: 10.83\n"
     ]
    }
   ],
   "source": [
    "import math\n",
    "side = float(input(\"Enter the side of the equilateral triangle: \"))\n",
    "area = ((math.sqrt(3))/4)*pow(side,2)\n",
    "print(\"The area of equilateral triangle is:\",round(area,2))"
   ]
  },
  {
   "cell_type": "markdown",
   "id": "7db8441e",
   "metadata": {},
   "source": [
    "# 2. Write a program to count the number of each characters in a string"
   ]
  },
  {
   "cell_type": "code",
   "execution_count": 2,
   "id": "cbe7b4ed",
   "metadata": {},
   "outputs": [
    {
     "name": "stdout",
     "output_type": "stream",
     "text": [
      "Enter the name of the string:hello world\n",
      "The count of each character is: {'h': 1, 'e': 1, 'l': 3, 'o': 2, ' ': 1, 'w': 1, 'r': 1, 'd': 1}\n"
     ]
    }
   ],
   "source": [
    "name_str = input(\"Enter the name of the string:\")\n",
    "all_freq={}\n",
    "for i in name_str:\n",
    "    if i in all_freq:\n",
    "        all_freq[i]+=1\n",
    "    else:\n",
    "        all_freq[i]=1\n",
    "print(\"The count of each character is:\",str(all_freq))"
   ]
  },
  {
   "cell_type": "markdown",
   "id": "6a4ca573",
   "metadata": {},
   "source": [
    "# Write a program to find the area and perimeter of a rectangle using functions"
   ]
  },
  {
   "cell_type": "code",
   "execution_count": 3,
   "id": "bcdc1109",
   "metadata": {},
   "outputs": [
    {
     "name": "stdout",
     "output_type": "stream",
     "text": [
      "Enter the length:6\n",
      "Enter the breadth:2\n",
      "Area = 12.0\n",
      "Perimeter = 16.0\n"
     ]
    }
   ],
   "source": [
    "def area(l,b):\n",
    "    return(l*b)\n",
    "def perimeter(l,b):\n",
    "    return(2*(l+b))\n",
    "l = float(input(\"Enter the length:\"))\n",
    "b = float(input(\"Enter the breadth:\"))\n",
    "print(\"Area =\",area(l,b))\n",
    "print(\"Perimeter =\",perimeter(l,b))"
   ]
  },
  {
   "cell_type": "markdown",
   "id": "c93ee509",
   "metadata": {},
   "source": [
    "# 4. Write a program to print the fibonacci series till a specified number"
   ]
  },
  {
   "cell_type": "code",
   "execution_count": 4,
   "id": "fae7a93c",
   "metadata": {},
   "outputs": [
    {
     "name": "stdout",
     "output_type": "stream",
     "text": [
      "0\n",
      "1\n",
      "1\n",
      "2\n",
      "3\n",
      "5\n",
      "8\n",
      "13\n",
      "21\n",
      "34\n"
     ]
    }
   ],
   "source": [
    "def fib(n):\n",
    "    a = 0\n",
    "    b = 1\n",
    "    if n == 1:\n",
    "        print(a)\n",
    "    else:\n",
    "        print(a)\n",
    "        print(b)\n",
    "        for i in range(2,n):\n",
    "            c = a + b\n",
    "            a = b\n",
    "            b = c\n",
    "            print(c)\n",
    "fib(10)"
   ]
  },
  {
   "cell_type": "markdown",
   "id": "06a5b853",
   "metadata": {},
   "source": [
    "# 5. Complete the following code to find the minimum of 3 number using cinditional statements. Output should be as displayed"
   ]
  },
  {
   "cell_type": "code",
   "execution_count": 5,
   "id": "e4a21282",
   "metadata": {},
   "outputs": [
    {
     "name": "stdout",
     "output_type": "stream",
     "text": [
      "Enter three numbers followed by  : 6 9 3\n",
      "First number : 6\n",
      "Second number : 9\n",
      "Third number : 3\n",
      "3  is smallest\n"
     ]
    }
   ],
   "source": [
    "a,b,c = input(\"Enter three numbers followed by  : \").split()\n",
    "\n",
    "print(\"First number :\",a)\n",
    "print(\"Second number :\",b)\n",
    "print(\"Third number :\",c)\n",
    "if(a==b==c):\n",
    "    print(\"Entered numbers are equal!!!\")\n",
    "if(a<b and a<c):\n",
    "    print(a,\" is smallest\")\n",
    "if(b<a and b<c):\n",
    "    print(b,\" is smallest\")\n",
    "else:\n",
    "    print(c,\" is smallest\")"
   ]
  },
  {
   "cell_type": "markdown",
   "id": "3bcdc5c0",
   "metadata": {},
   "source": [
    "# 6. Write a program to print star pyramind. The number of rows should be taken as input from the user"
   ]
  },
  {
   "cell_type": "code",
   "execution_count": 6,
   "id": "a4f2975e",
   "metadata": {},
   "outputs": [
    {
     "name": "stdout",
     "output_type": "stream",
     "text": [
      "Enter the number of rows:7\n",
      "       * \n",
      "      * * \n",
      "     * * * \n",
      "    * * * * \n",
      "   * * * * * \n",
      "  * * * * * * \n",
      " * * * * * * * \n"
     ]
    }
   ],
   "source": [
    "row = int(input(\"Enter the number of rows:\"))\n",
    "for i in range(row):\n",
    "    for s in range(i,row):\n",
    "        print(end=' ')\n",
    "    for j in range(i+1):\n",
    "        print(end = \"* \")\n",
    "    print()"
   ]
  },
  {
   "cell_type": "markdown",
   "id": "66f9acb7",
   "metadata": {},
   "source": [
    "# 7. Complete the following code to convert hour into seconds. Output should be as displayed"
   ]
  },
  {
   "cell_type": "code",
   "execution_count": 7,
   "id": "dda119ec",
   "metadata": {},
   "outputs": [
    {
     "name": "stdout",
     "output_type": "stream",
     "text": [
      "Enter the time in hours5\n",
      "5  Hour is equal to 18000  Seconds\n"
     ]
    }
   ],
   "source": [
    "def to_seconds(t):\n",
    "    \n",
    "    return t*60*60\n",
    "time_in_hours = int(input(\"Enter the time in hours\"))\n",
    "print(time_in_hours ,\" Hour is equal to\" ,to_seconds(time_in_hours) ,\" Seconds\")"
   ]
  },
  {
   "cell_type": "markdown",
   "id": "51eea8cd",
   "metadata": {},
   "source": [
    "# 8. Write a program to print multiplication table as below"
   ]
  },
  {
   "cell_type": "code",
   "execution_count": 8,
   "id": "1410eb0d",
   "metadata": {},
   "outputs": [
    {
     "name": "stdout",
     "output_type": "stream",
     "text": [
      "Enter the number 8\n",
      "8 * 0 = 0\n",
      "8 * 1 = 8\n",
      "8 * 2 = 16\n",
      "8 * 3 = 24\n",
      "8 * 4 = 32\n",
      "8 * 5 = 40\n",
      "8 * 6 = 48\n",
      "8 * 7 = 56\n",
      "8 * 8 = 64\n",
      "8 * 9 = 72\n",
      "8 * 10 = 80\n"
     ]
    }
   ],
   "source": [
    "num =int( input('Enter the number '))\n",
    "for i in range(0,11):\n",
    "    print(num,\"*\", i ,\"=\",num*i )"
   ]
  },
  {
   "cell_type": "markdown",
   "id": "1151484d",
   "metadata": {},
   "source": [
    "# 9. Write a program to take your 5 favorite food as list and print each as 'I like Biriyani'"
   ]
  },
  {
   "cell_type": "code",
   "execution_count": 9,
   "id": "af1bc0e8",
   "metadata": {},
   "outputs": [
    {
     "name": "stdout",
     "output_type": "stream",
     "text": [
      "Enter your favourite food: pizza\n",
      "Enter your favourite food: noodles\n",
      "Enter your favourite food: icecream\n",
      "Enter your favourite food: chocolate\n",
      "Enter your favourite food: sandwich\n",
      "['pizza', 'noodles', 'icecream', 'chocolate', 'sandwich']\n",
      "I like  pizza\n",
      "I like  noodles\n",
      "I like  icecream\n",
      "I like  chocolate\n",
      "I like  sandwich\n"
     ]
    }
   ],
   "source": [
    "food_list=[]\n",
    "for i in range(5):\n",
    "    food_list.append(input(\"Enter your favourite food: \"))\n",
    "print(food_list)\n",
    "for i in food_list:\n",
    "    print(\"I like \",i)"
   ]
  },
  {
   "cell_type": "markdown",
   "id": "d86df146",
   "metadata": {},
   "source": [
    "# 10. Find error(s) in the following code(if any) and rewrite code"
   ]
  },
  {
   "cell_type": "code",
   "execution_count": 10,
   "id": "5b984f15",
   "metadata": {},
   "outputs": [
    {
     "ename": "SyntaxError",
     "evalue": "invalid character in identifier (<ipython-input-10-385a8bd7f51f>, line 1)",
     "output_type": "error",
     "traceback": [
      "\u001b[1;36m  File \u001b[1;32m\"<ipython-input-10-385a8bd7f51f>\"\u001b[1;36m, line \u001b[1;32m1\u001b[0m\n\u001b[1;33m    x= int(“Enter value of x:”)\u001b[0m\n\u001b[1;37m                ^\u001b[0m\n\u001b[1;31mSyntaxError\u001b[0m\u001b[1;31m:\u001b[0m invalid character in identifier\n"
     ]
    }
   ],
   "source": [
    "x= int(“Enter value of x:”)\n",
    "for in range [0,10]:\n",
    "     if x=y\n",
    "          print(\"They are equal\")\n",
    "     else:\n",
    "         Print( \"They are unequal\")"
   ]
  },
  {
   "cell_type": "code",
   "execution_count": 11,
   "id": "2afe965d",
   "metadata": {},
   "outputs": [
    {
     "name": "stdout",
     "output_type": "stream",
     "text": [
      "Enter value of x: 4\n",
      "They are unequal\n",
      "They are unequal\n",
      "They are unequal\n",
      "They are unequal\n",
      "They are equal\n",
      "They are unequal\n",
      "They are unequal\n",
      "They are unequal\n",
      "They are unequal\n",
      "They are unequal\n"
     ]
    }
   ],
   "source": [
    "#Corrected code\n",
    "x= int(input(\"Enter value of x: \"))\n",
    "for y in range (0,10):\n",
    "    if x==y:\n",
    "        print(\"They are equal\")\n",
    "    else :\n",
    "        print( \"They are unequal\")"
   ]
  },
  {
   "cell_type": "code",
   "execution_count": null,
   "id": "714e2720",
   "metadata": {},
   "outputs": [],
   "source": []
  }
 ],
 "metadata": {
  "kernelspec": {
   "display_name": "Python 3",
   "language": "python",
   "name": "python3"
  },
  "language_info": {
   "codemirror_mode": {
    "name": "ipython",
    "version": 3
   },
   "file_extension": ".py",
   "mimetype": "text/x-python",
   "name": "python",
   "nbconvert_exporter": "python",
   "pygments_lexer": "ipython3",
   "version": "3.8.8"
  }
 },
 "nbformat": 4,
 "nbformat_minor": 5
}
